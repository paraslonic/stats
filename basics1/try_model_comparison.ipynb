{
 "cells": [
  {
   "cell_type": "code",
   "execution_count": 28,
   "id": "6b8f23c4-5838-41e0-8351-85bfd16c28ab",
   "metadata": {},
   "outputs": [],
   "source": [
    "library(rstan)\n",
    "library(loo)"
   ]
  },
  {
   "cell_type": "code",
   "execution_count": 29,
   "id": "807e60c0-5ef4-4121-813c-a04f485eec12",
   "metadata": {},
   "outputs": [
    {
     "data": {
      "text/html": [
       "<style>\n",
       ".list-inline {list-style: none; margin:0; padding: 0}\n",
       ".list-inline>li {display: inline-block}\n",
       ".list-inline>li:not(:last-child)::after {content: \"\\00b7\"; padding: 0 .5ex}\n",
       "</style>\n",
       "<ol class=list-inline><li>8</li><li>13</li><li>9</li><li>14</li><li>15</li><li>5</li></ol>\n"
      ],
      "text/latex": [
       "\\begin{enumerate*}\n",
       "\\item 8\n",
       "\\item 13\n",
       "\\item 9\n",
       "\\item 14\n",
       "\\item 15\n",
       "\\item 5\n",
       "\\end{enumerate*}\n"
      ],
      "text/markdown": [
       "1. 8\n",
       "2. 13\n",
       "3. 9\n",
       "4. 14\n",
       "5. 15\n",
       "6. 5\n",
       "\n",
       "\n"
      ],
      "text/plain": [
       "[1]  8 13  9 14 15  5"
      ]
     },
     "metadata": {},
     "output_type": "display_data"
    }
   ],
   "source": [
    "set.seed(123)\n",
    "y <- rbinom(500, size = 100, prob = 0.01016)\n",
    "head(y)\n"
   ]
  },
  {
   "cell_type": "code",
   "execution_count": 30,
   "id": "f7678860-0ef3-4748-a870-924b831a5e9c",
   "metadata": {},
   "outputs": [
    {
     "data": {
      "image/png": "[encoded data removed]",
      "text/plain": [
       "Plot with title “Histogram of y”"
      ]
     },
     "metadata": {
      "image/png": {
       "height": 420,
       "width": 420
      }
     },
     "output_type": "display_data"
    }
   ],
   "source": [
    "hist(y)"
   ]
  },
  {
   "cell_type": "code",
   "execution_count": 31,
   "id": "d728a515-4426-4417-bb0a-2de6ce558c85",
   "metadata": {},
   "outputs": [
    {
     "name": "stdout",
     "output_type": "stream",
     "text": [
      "\n",
      "SAMPLING FOR MODEL '75be00419c4b686a3dfec72e08400c81' NOW (CHAIN 1).\n",
      "Chain 1: \n",
      "Chain 1: Gradient evaluation took 0.000386 seconds\n",
      "Chain 1: 1000 transitions using 10 leapfrog steps per transition would take 3.86 seconds.\n",
      "Chain 1: Adjust your expectations accordingly!\n",
      "Chain 1: \n",
      "Chain 1: \n",
      "Chain 1: Iteration:    1 / 2000 [  0%]  (Warmup)\n",
      "Chain 1: Iteration:  200 / 2000 [ 10%]  (Warmup)\n",
      "Chain 1: Iteration:  400 / 2000 [ 20%]  (Warmup)\n",
      "Chain 1: Iteration:  600 / 2000 [ 30%]  (Warmup)\n",
      "Chain 1: Iteration:  800 / 2000 [ 40%]  (Warmup)\n",
      "Chain 1: Iteration: 1000 / 2000 [ 50%]  (Warmup)\n",
      "Chain 1: Iteration: 1001 / 2000 [ 50%]  (Sampling)\n",
      "Chain 1: Iteration: 1200 / 2000 [ 60%]  (Sampling)\n",
      "Chain 1: Iteration: 1400 / 2000 [ 70%]  (Sampling)\n",
      "Chain 1: Iteration: 1600 / 2000 [ 80%]  (Sampling)\n",
      "Chain 1: Iteration: 1800 / 2000 [ 90%]  (Sampling)\n",
      "Chain 1: Iteration: 2000 / 2000 [100%]  (Sampling)\n",
      "Chain 1: \n",
      "Chain 1:  Elapsed Time: 1.64695 seconds (Warm-up)\n",
      "Chain 1:                1.68691 seconds (Sampling)\n",
      "Chain 1:                3.33386 seconds (Total)\n",
      "Chain 1: \n",
      "\n",
      "SAMPLING FOR MODEL '75be00419c4b686a3dfec72e08400c81' NOW (CHAIN 2).\n",
      "Chain 2: \n",
      "Chain 2: Gradient evaluation took 0.000368 seconds\n",
      "Chain 2: 1000 transitions using 10 leapfrog steps per transition would take 3.68 seconds.\n",
      "Chain 2: Adjust your expectations accordingly!\n",
      "Chain 2: \n",
      "Chain 2: \n",
      "Chain 2: Iteration:    1 / 2000 [  0%]  (Warmup)\n",
      "Chain 2: Iteration:  200 / 2000 [ 10%]  (Warmup)\n",
      "Chain 2: Iteration:  400 / 2000 [ 20%]  (Warmup)\n",
      "Chain 2: Iteration:  600 / 2000 [ 30%]  (Warmup)\n",
      "Chain 2: Iteration:  800 / 2000 [ 40%]  (Warmup)\n",
      "Chain 2: Iteration: 1000 / 2000 [ 50%]  (Warmup)\n",
      "Chain 2: Iteration: 1001 / 2000 [ 50%]  (Sampling)\n",
      "Chain 2: Iteration: 1200 / 2000 [ 60%]  (Sampling)\n",
      "Chain 2: Iteration: 1400 / 2000 [ 70%]  (Sampling)\n",
      "Chain 2: Iteration: 1600 / 2000 [ 80%]  (Sampling)\n",
      "Chain 2: Iteration: 1800 / 2000 [ 90%]  (Sampling)\n",
      "Chain 2: Iteration: 2000 / 2000 [100%]  (Sampling)\n",
      "Chain 2: \n",
      "Chain 2:  Elapsed Time: 1.6604 seconds (Warm-up)\n",
      "Chain 2:                1.59382 seconds (Sampling)\n",
      "Chain 2:                3.25422 seconds (Total)\n",
      "Chain 2: \n",
      "\n",
      "SAMPLING FOR MODEL '75be00419c4b686a3dfec72e08400c81' NOW (CHAIN 3).\n",
      "Chain 3: \n",
      "Chain 3: Gradient evaluation took 0.000372 seconds\n",
      "Chain 3: 1000 transitions using 10 leapfrog steps per transition would take 3.72 seconds.\n",
      "Chain 3: Adjust your expectations accordingly!\n",
      "Chain 3: \n",
      "Chain 3: \n",
      "Chain 3: Iteration:    1 / 2000 [  0%]  (Warmup)\n",
      "Chain 3: Iteration:  200 / 2000 [ 10%]  (Warmup)\n",
      "Chain 3: Iteration:  400 / 2000 [ 20%]  (Warmup)\n",
      "Chain 3: Iteration:  600 / 2000 [ 30%]  (Warmup)\n",
      "Chain 3: Iteration:  800 / 2000 [ 40%]  (Warmup)\n",
      "Chain 3: Iteration: 1000 / 2000 [ 50%]  (Warmup)\n",
      "Chain 3: Iteration: 1001 / 2000 [ 50%]  (Sampling)\n",
      "Chain 3: Iteration: 1200 / 2000 [ 60%]  (Sampling)\n",
      "Chain 3: Iteration: 1400 / 2000 [ 70%]  (Sampling)\n",
      "Chain 3: Iteration: 1600 / 2000 [ 80%]  (Sampling)\n",
      "Chain 3: Iteration: 1800 / 2000 [ 90%]  (Sampling)\n",
      "Chain 3: Iteration: 2000 / 2000 [100%]  (Sampling)\n",
      "Chain 3: \n",
      "Chain 3:  Elapsed Time: 1.65725 seconds (Warm-up)\n",
      "Chain 3:                1.65956 seconds (Sampling)\n",
      "Chain 3:                3.31681 seconds (Total)\n",
      "Chain 3: \n",
      "\n",
      "SAMPLING FOR MODEL '75be00419c4b686a3dfec72e08400c81' NOW (CHAIN 4).\n",
      "Chain 4: \n",
      "Chain 4: Gradient evaluation took 0.000366 seconds\n",
      "Chain 4: 1000 transitions using 10 leapfrog steps per transition would take 3.66 seconds.\n",
      "Chain 4: Adjust your expectations accordingly!\n",
      "Chain 4: \n",
      "Chain 4: \n",
      "Chain 4: Iteration:    1 / 2000 [  0%]  (Warmup)\n",
      "Chain 4: Iteration:  200 / 2000 [ 10%]  (Warmup)\n",
      "Chain 4: Iteration:  400 / 2000 [ 20%]  (Warmup)\n",
      "Chain 4: Iteration:  600 / 2000 [ 30%]  (Warmup)\n",
      "Chain 4: Iteration:  800 / 2000 [ 40%]  (Warmup)\n",
      "Chain 4: Iteration: 1000 / 2000 [ 50%]  (Warmup)\n",
      "Chain 4: Iteration: 1001 / 2000 [ 50%]  (Sampling)\n",
      "Chain 4: Iteration: 1200 / 2000 [ 60%]  (Sampling)\n",
      "Chain 4: Iteration: 1400 / 2000 [ 70%]  (Sampling)\n",
      "Chain 4: Iteration: 1600 / 2000 [ 80%]  (Sampling)\n",
      "Chain 4: Iteration: 1800 / 2000 [ 90%]  (Sampling)\n",
      "Chain 4: Iteration: 2000 / 2000 [100%]  (Sampling)\n",
      "Chain 4: \n",
      "Chain 4:  Elapsed Time: 1.64592 seconds (Warm-up)\n",
      "Chain 4:                1.53663 seconds (Sampling)\n",
      "Chain 4:                3.18255 seconds (Total)\n",
      "Chain 4: \n"
     ]
    }
   ],
   "source": [
    "model_string <- \"\n",
    "data {\n",
    "  int n;\n",
    "  int y[n];\n",
    "}\n",
    "parameters {\n",
    "  real<lower=0, upper=1> theta;\n",
    "}\n",
    "model {\n",
    "  for (i in 1:n) {\n",
    "    target += binomial_lpmf(y[i] | 100, theta);\n",
    "  }\n",
    "}\n",
    "\n",
    "generated quantities {\n",
    "  vector[n] log_lik;\n",
    "  for (i in 1:n) {\n",
    "    log_lik[i] = binomial_lpmf(y[i] | 100, theta);\n",
    "  }\n",
    "}\n",
    "\"\n",
    "\n",
    "bermodel <- stan(model_code = model_string, data = list(y = y, n = length(y)) )"
   ]
  },
  {
   "cell_type": "code",
   "execution_count": 32,
   "id": "b8d1b827-f9f5-4de0-9c33-f7e803acc931",
   "metadata": {},
   "outputs": [
    {
     "name": "stdout",
     "output_type": "stream",
     "text": [
      "\n",
      "SAMPLING FOR MODEL 'ccd1152d9baa79f867db11c430aff909' NOW (CHAIN 1).\n",
      "Chain 1: \n",
      "Chain 1: Gradient evaluation took 9e-06 seconds\n",
      "Chain 1: 1000 transitions using 10 leapfrog steps per transition would take 0.09 seconds.\n",
      "Chain 1: Adjust your expectations accordingly!\n",
      "Chain 1: \n",
      "Chain 1: \n",
      "Chain 1: Iteration:    1 / 2000 [  0%]  (Warmup)\n",
      "Chain 1: Iteration:  200 / 2000 [ 10%]  (Warmup)\n",
      "Chain 1: Iteration:  400 / 2000 [ 20%]  (Warmup)\n",
      "Chain 1: Iteration:  600 / 2000 [ 30%]  (Warmup)\n",
      "Chain 1: Iteration:  800 / 2000 [ 40%]  (Warmup)\n",
      "Chain 1: Iteration: 1000 / 2000 [ 50%]  (Warmup)\n",
      "Chain 1: Iteration: 1001 / 2000 [ 50%]  (Sampling)\n",
      "Chain 1: Iteration: 1200 / 2000 [ 60%]  (Sampling)\n",
      "Chain 1: Iteration: 1400 / 2000 [ 70%]  (Sampling)\n",
      "Chain 1: Iteration: 1600 / 2000 [ 80%]  (Sampling)\n",
      "Chain 1: Iteration: 1800 / 2000 [ 90%]  (Sampling)\n",
      "Chain 1: Iteration: 2000 / 2000 [100%]  (Sampling)\n",
      "Chain 1: \n",
      "Chain 1:  Elapsed Time: 0.03705 seconds (Warm-up)\n",
      "Chain 1:                0.034406 seconds (Sampling)\n",
      "Chain 1:                0.071456 seconds (Total)\n",
      "Chain 1: \n",
      "\n",
      "SAMPLING FOR MODEL 'ccd1152d9baa79f867db11c430aff909' NOW (CHAIN 2).\n",
      "Chain 2: \n",
      "Chain 2: Gradient evaluation took 7e-06 seconds\n",
      "Chain 2: 1000 transitions using 10 leapfrog steps per transition would take 0.07 seconds.\n",
      "Chain 2: Adjust your expectations accordingly!\n",
      "Chain 2: \n",
      "Chain 2: \n",
      "Chain 2: Iteration:    1 / 2000 [  0%]  (Warmup)\n",
      "Chain 2: Iteration:  200 / 2000 [ 10%]  (Warmup)\n",
      "Chain 2: Iteration:  400 / 2000 [ 20%]  (Warmup)\n",
      "Chain 2: Iteration:  600 / 2000 [ 30%]  (Warmup)\n",
      "Chain 2: Iteration:  800 / 2000 [ 40%]  (Warmup)\n",
      "Chain 2: Iteration: 1000 / 2000 [ 50%]  (Warmup)\n",
      "Chain 2: Iteration: 1001 / 2000 [ 50%]  (Sampling)\n",
      "Chain 2: Iteration: 1200 / 2000 [ 60%]  (Sampling)\n",
      "Chain 2: Iteration: 1400 / 2000 [ 70%]  (Sampling)\n",
      "Chain 2: Iteration: 1600 / 2000 [ 80%]  (Sampling)\n",
      "Chain 2: Iteration: 1800 / 2000 [ 90%]  (Sampling)\n",
      "Chain 2: Iteration: 2000 / 2000 [100%]  (Sampling)\n",
      "Chain 2: \n",
      "Chain 2:  Elapsed Time: 0.037232 seconds (Warm-up)\n",
      "Chain 2:                0.033763 seconds (Sampling)\n",
      "Chain 2:                0.070995 seconds (Total)\n",
      "Chain 2: \n",
      "\n",
      "SAMPLING FOR MODEL 'ccd1152d9baa79f867db11c430aff909' NOW (CHAIN 3).\n",
      "Chain 3: \n",
      "Chain 3: Gradient evaluation took 6e-06 seconds\n",
      "Chain 3: 1000 transitions using 10 leapfrog steps per transition would take 0.06 seconds.\n",
      "Chain 3: Adjust your expectations accordingly!\n",
      "Chain 3: \n",
      "Chain 3: \n",
      "Chain 3: Iteration:    1 / 2000 [  0%]  (Warmup)\n",
      "Chain 3: Iteration:  200 / 2000 [ 10%]  (Warmup)\n",
      "Chain 3: Iteration:  400 / 2000 [ 20%]  (Warmup)\n",
      "Chain 3: Iteration:  600 / 2000 [ 30%]  (Warmup)\n",
      "Chain 3: Iteration:  800 / 2000 [ 40%]  (Warmup)\n",
      "Chain 3: Iteration: 1000 / 2000 [ 50%]  (Warmup)\n",
      "Chain 3: Iteration: 1001 / 2000 [ 50%]  (Sampling)\n",
      "Chain 3: Iteration: 1200 / 2000 [ 60%]  (Sampling)\n",
      "Chain 3: Iteration: 1400 / 2000 [ 70%]  (Sampling)\n",
      "Chain 3: Iteration: 1600 / 2000 [ 80%]  (Sampling)\n",
      "Chain 3: Iteration: 1800 / 2000 [ 90%]  (Sampling)\n",
      "Chain 3: Iteration: 2000 / 2000 [100%]  (Sampling)\n",
      "Chain 3: \n",
      "Chain 3:  Elapsed Time: 0.036379 seconds (Warm-up)\n",
      "Chain 3:                0.037622 seconds (Sampling)\n",
      "Chain 3:                0.074001 seconds (Total)\n",
      "Chain 3: \n",
      "\n",
      "SAMPLING FOR MODEL 'ccd1152d9baa79f867db11c430aff909' NOW (CHAIN 4).\n",
      "Chain 4: \n",
      "Chain 4: Gradient evaluation took 6e-06 seconds\n",
      "Chain 4: 1000 transitions using 10 leapfrog steps per transition would take 0.06 seconds.\n",
      "Chain 4: Adjust your expectations accordingly!\n",
      "Chain 4: \n",
      "Chain 4: \n",
      "Chain 4: Iteration:    1 / 2000 [  0%]  (Warmup)\n",
      "Chain 4: Iteration:  200 / 2000 [ 10%]  (Warmup)\n",
      "Chain 4: Iteration:  400 / 2000 [ 20%]  (Warmup)\n",
      "Chain 4: Iteration:  600 / 2000 [ 30%]  (Warmup)\n",
      "Chain 4: Iteration:  800 / 2000 [ 40%]  (Warmup)\n",
      "Chain 4: Iteration: 1000 / 2000 [ 50%]  (Warmup)\n",
      "Chain 4: Iteration: 1001 / 2000 [ 50%]  (Sampling)\n",
      "Chain 4: Iteration: 1200 / 2000 [ 60%]  (Sampling)\n",
      "Chain 4: Iteration: 1400 / 2000 [ 70%]  (Sampling)\n",
      "Chain 4: Iteration: 1600 / 2000 [ 80%]  (Sampling)\n",
      "Chain 4: Iteration: 1800 / 2000 [ 90%]  (Sampling)\n",
      "Chain 4: Iteration: 2000 / 2000 [100%]  (Sampling)\n",
      "Chain 4: \n",
      "Chain 4:  Elapsed Time: 0.037095 seconds (Warm-up)\n",
      "Chain 4:                0.032633 seconds (Sampling)\n",
      "Chain 4:                0.069728 seconds (Total)\n",
      "Chain 4: \n"
     ]
    }
   ],
   "source": [
    "model_string <- \"\n",
    "data {\n",
    "  int n;\n",
    "  real y[n];\n",
    "}\n",
    "parameters {\n",
    "  real mu;\n",
    "  real<lower=0> sigma;\n",
    "}\n",
    "model {\n",
    "    y ~ normal(mu, sigma);\n",
    "}\n",
    "\n",
    "generated quantities {\n",
    "  vector[n] log_lik;\n",
    "  for (i in 1:n) {\n",
    "    log_lik[i] = normal_lpdf(y[i] | mu, sigma);\n",
    "  }\n",
    "}\n",
    "\"\n",
    "\n",
    "normmodel <- stan(model_code = model_string, data = list(y = y, n = length(y)) )"
   ]
  },
  {
   "cell_type": "code",
   "execution_count": 33,
   "id": "918568dd-8467-4638-a6d9-866be68a19bf",
   "metadata": {},
   "outputs": [],
   "source": [
    "  log_lik_1 <- extract_log_lik(bermodel, merge_chains = FALSE)\n",
    "  r_eff <- relative_eff(exp(log_lik_1), cores = 1) \n",
    "  loo_1 <- loo(log_lik_1, r_eff = r_eff, cores = 2)\n",
    "  elpd1 <- loo_1$estimates[1,1]"
   ]
  },
  {
   "cell_type": "code",
   "execution_count": 34,
   "id": "88ebaba9-ea9d-4bdd-b46a-5735eba7c08e",
   "metadata": {},
   "outputs": [],
   "source": [
    "  log_lik_2 <- extract_log_lik(normmodel, merge_chains = FALSE)\n",
    "  r_eff <- relative_eff(exp(log_lik_2), cores = 1) \n",
    "  loo_2 <- loo(log_lik_2, r_eff = r_eff, cores = 2)\n",
    "  elpd2 <- loo_2$estimates[1,1]"
   ]
  },
  {
   "cell_type": "code",
   "execution_count": 35,
   "id": "87bfab37-2d3a-4f99-b67b-9f81dac6ac39",
   "metadata": {},
   "outputs": [
    {
     "data": {
      "text/html": [
       "-1249.1597477092"
      ],
      "text/latex": [
       "-1249.1597477092"
      ],
      "text/markdown": [
       "-1249.1597477092"
      ],
      "text/plain": [
       "[1] -1249.16"
      ]
     },
     "metadata": {},
     "output_type": "display_data"
    }
   ],
   "source": [
    "elpd1"
   ]
  },
  {
   "cell_type": "code",
   "execution_count": 36,
   "id": "459b2415-1b87-45c4-a9e5-6bf45ea8b130",
   "metadata": {},
   "outputs": [
    {
     "data": {
      "text/html": [
       "-1255.34487052072"
      ],
      "text/latex": [
       "-1255.34487052072"
      ],
      "text/markdown": [
       "-1255.34487052072"
      ],
      "text/plain": [
       "[1] -1255.345"
      ]
     },
     "metadata": {},
     "output_type": "display_data"
    }
   ],
   "source": [
    "elpd2"
   ]
  },
  {
   "cell_type": "code",
   "execution_count": 37,
   "id": "f591bd45-94f3-4344-ae3f-699348d9d114",
   "metadata": {},
   "outputs": [
    {
     "data": {
      "text/html": [
       "<style>\n",
       ".dl-inline {width: auto; margin:0; padding: 0}\n",
       ".dl-inline>dt, .dl-inline>dd {float: none; width: auto; display: inline-block}\n",
       ".dl-inline>dt::after {content: \":\\0020\"; padding-right: .5ex}\n",
       ".dl-inline>dt:not(:first-of-type) {padding-left: .5ex}\n",
       "</style><dl class=dl-inline><dt>mean-chain:1</dt><dd>0.101679950001278</dd><dt>mean-chain:2</dt><dd>0.101637089115329</dd><dt>mean-chain:3</dt><dd>0.101485859008797</dd><dt>mean-chain:4</dt><dd>0.101520729706812</dd><dt>mean-all chains</dt><dd>0.101580906958054</dd></dl>\n"
      ],
      "text/latex": [
       "\\begin{description*}\n",
       "\\item[mean-chain:1] 0.101679950001278\n",
       "\\item[mean-chain:2] 0.101637089115329\n",
       "\\item[mean-chain:3] 0.101485859008797\n",
       "\\item[mean-chain:4] 0.101520729706812\n",
       "\\item[mean-all chains] 0.101580906958054\n",
       "\\end{description*}\n"
      ],
      "text/markdown": [
       "mean-chain:1\n",
       ":   0.101679950001278mean-chain:2\n",
       ":   0.101637089115329mean-chain:3\n",
       ":   0.101485859008797mean-chain:4\n",
       ":   0.101520729706812mean-all chains\n",
       ":   0.101580906958054\n",
       "\n"
      ],
      "text/plain": [
       "   mean-chain:1    mean-chain:2    mean-chain:3    mean-chain:4 mean-all chains \n",
       "      0.1016800       0.1016371       0.1014859       0.1015207       0.1015809 "
      ]
     },
     "metadata": {},
     "output_type": "display_data"
    }
   ],
   "source": [
    "get_posterior_mean(bermodel)[1,]"
   ]
  },
  {
   "cell_type": "code",
   "execution_count": 38,
   "id": "7451b7c0-8336-4c4d-9749-64d24d0111c8",
   "metadata": {},
   "outputs": [
    {
     "data": {
      "text/html": [
       "<style>\n",
       ".dl-inline {width: auto; margin:0; padding: 0}\n",
       ".dl-inline>dt, .dl-inline>dd {float: none; width: auto; display: inline-block}\n",
       ".dl-inline>dt::after {content: \":\\0020\"; padding-right: .5ex}\n",
       ".dl-inline>dt:not(:first-of-type) {padding-left: .5ex}\n",
       "</style><dl class=dl-inline><dt>mean-chain:1</dt><dd>10.160343277881</dd><dt>mean-chain:2</dt><dd>10.1575882815099</dd><dt>mean-chain:3</dt><dd>10.1561000208664</dd><dt>mean-chain:4</dt><dd>10.1467555371305</dd><dt>mean-all chains</dt><dd>10.155196779347</dd></dl>\n"
      ],
      "text/latex": [
       "\\begin{description*}\n",
       "\\item[mean-chain:1] 10.160343277881\n",
       "\\item[mean-chain:2] 10.1575882815099\n",
       "\\item[mean-chain:3] 10.1561000208664\n",
       "\\item[mean-chain:4] 10.1467555371305\n",
       "\\item[mean-all chains] 10.155196779347\n",
       "\\end{description*}\n"
      ],
      "text/markdown": [
       "mean-chain:1\n",
       ":   10.160343277881mean-chain:2\n",
       ":   10.1575882815099mean-chain:3\n",
       ":   10.1561000208664mean-chain:4\n",
       ":   10.1467555371305mean-all chains\n",
       ":   10.155196779347\n",
       "\n"
      ],
      "text/plain": [
       "   mean-chain:1    mean-chain:2    mean-chain:3    mean-chain:4 mean-all chains \n",
       "       10.16034        10.15759        10.15610        10.14676        10.15520 "
      ]
     },
     "metadata": {},
     "output_type": "display_data"
    }
   ],
   "source": [
    "get_posterior_mean(normmodel)[1,]"
   ]
  },
  {
   "cell_type": "code",
   "execution_count": 39,
   "id": "9513931f-dd30-4510-bfca-533e1c8b9953",
   "metadata": {},
   "outputs": [
    {
     "data": {
      "text/html": [
       "<table class=\"dataframe\">\n",
       "<caption>A compare.loo: 2 × 8 of type dbl</caption>\n",
       "<thead>\n",
       "\t<tr><th></th><th scope=col>elpd_diff</th><th scope=col>se_diff</th><th scope=col>elpd_loo</th><th scope=col>se_elpd_loo</th><th scope=col>p_loo</th><th scope=col>se_p_loo</th><th scope=col>looic</th><th scope=col>se_looic</th></tr>\n",
       "</thead>\n",
       "<tbody>\n",
       "\t<tr><th scope=row>model1</th><td> 0.000000</td><td>0.000000</td><td>-1249.160</td><td>15.59028</td><td>1.007772</td><td>0.06625385</td><td>2498.319</td><td>31.18056</td></tr>\n",
       "\t<tr><th scope=row>model2</th><td>-6.185123</td><td>2.567269</td><td>-1255.345</td><td>16.46739</td><td>2.031161</td><td>0.24154635</td><td>2510.690</td><td>32.93477</td></tr>\n",
       "</tbody>\n",
       "</table>\n"
      ],
      "text/latex": [
       "A compare.loo: 2 × 8 of type dbl\n",
       "\\begin{tabular}{r|llllllll}\n",
       "  & elpd\\_diff & se\\_diff & elpd\\_loo & se\\_elpd\\_loo & p\\_loo & se\\_p\\_loo & looic & se\\_looic\\\\\n",
       "\\hline\n",
       "\tmodel1 &  0.000000 & 0.000000 & -1249.160 & 15.59028 & 1.007772 & 0.06625385 & 2498.319 & 31.18056\\\\\n",
       "\tmodel2 & -6.185123 & 2.567269 & -1255.345 & 16.46739 & 2.031161 & 0.24154635 & 2510.690 & 32.93477\\\\\n",
       "\\end{tabular}\n"
      ],
      "text/markdown": [
       "\n",
       "A compare.loo: 2 × 8 of type dbl\n",
       "\n",
       "| <!--/--> | elpd_diff | se_diff | elpd_loo | se_elpd_loo | p_loo | se_p_loo | looic | se_looic |\n",
       "|---|---|---|---|---|---|---|---|---|\n",
       "| model1 |  0.000000 | 0.000000 | -1249.160 | 15.59028 | 1.007772 | 0.06625385 | 2498.319 | 31.18056 |\n",
       "| model2 | -6.185123 | 2.567269 | -1255.345 | 16.46739 | 2.031161 | 0.24154635 | 2510.690 | 32.93477 |\n",
       "\n"
      ],
      "text/plain": [
       "       elpd_diff se_diff  elpd_loo  se_elpd_loo p_loo    se_p_loo   looic   \n",
       "model1  0.000000 0.000000 -1249.160 15.59028    1.007772 0.06625385 2498.319\n",
       "model2 -6.185123 2.567269 -1255.345 16.46739    2.031161 0.24154635 2510.690\n",
       "       se_looic\n",
       "model1 31.18056\n",
       "model2 32.93477"
      ]
     },
     "metadata": {},
     "output_type": "display_data"
    }
   ],
   "source": [
    "loo_compare(loo_1, loo_2)"
   ]
  }
 ],
 "metadata": {
  "kernelspec": {
   "display_name": "R",
   "language": "R",
   "name": "ir"
  },
  "language_info": {
   "codemirror_mode": "r",
   "file_extension": ".r",
   "mimetype": "text/x-r-source",
   "name": "R",
   "pygments_lexer": "r",
   "version": "4.1.3"
  }
 },
 "nbformat": 4,
 "nbformat_minor": 5
}
